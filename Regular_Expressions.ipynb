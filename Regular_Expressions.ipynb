{
 "cells": [
  {
   "cell_type": "markdown",
   "id": "2888f842-52d0-4444-93bd-5e05a4cdad6e",
   "metadata": {},
   "source": [
    "# **REGULAR EXPRESSIONS EXERCISES**"
   ]
  },
  {
   "cell_type": "markdown",
   "id": "f79e4604-07a1-4a78-a1f2-e80f06870aa3",
   "metadata": {},
   "source": [
    "## Welcome !\n",
    "This workshop was made to help you discover **Regular Expressions** and some advanced stuff that could be useful in your cursus.\\\n",
    "It's entirely interactive using Jupyter Notebook, so don't hesitate to do some tests on your own.\n",
    "\n",
    "> This workshop is mostly destinated to people who have never touched Regular Expressions in depth, with some little code knowledge. We will cover easy and hard stuff, so good luck if you're new there !\n",
    "\n",
    "I hope you guys are ready, you'll have a lot of work to get throught !\\\n",
    "Throughout this workshop, you will learn a lot of new stuff so don’t forget to take notes and don’t be shy, the supervising staff is here to answer all your questions.\n",
    "\n",
    "I hope you're ready. Let’s go!"
   ]
  },
  {
   "cell_type": "markdown",
   "id": "cff6a410-e49b-47a4-b43b-a85664b86f2f",
   "metadata": {},
   "source": [
    "## What is Regular Expressions exactly ?\n",
    "To start of, **Regex** or Regular Expression, is a sequence of characters that forms a search pattern.\n",
    "RegEx can be used to check if a string contains the specified search pattern. \\\n",
    "It's widly used in the research domains and the world of mathematics, mostly by Data Scientists and Researcher in a lot of domains."
   ]
  },
  {
   "cell_type": "markdown",
   "id": "0eadd6b8-9885-46ee-ab25-58e8c30017f6",
   "metadata": {},
   "source": [
    "## Exercices"
   ]
  },
  {
   "cell_type": "code",
   "execution_count": 17,
   "id": "0060e78e-63b6-4d0e-be8d-3655cfe66002",
   "metadata": {},
   "outputs": [],
   "source": [
    "import re"
   ]
  },
  {
   "cell_type": "markdown",
   "id": "591195ad-56a0-4bdf-8c00-cda21420ca1e",
   "metadata": {},
   "source": [
    "1) Write a Python program to match a string that contains only upper and lowercase letters, numbers, and underscores."
   ]
  },
  {
   "cell_type": "code",
   "execution_count": 18,
   "id": "ce4c7b3b-b370-4a3f-9e83-46065e9ab103",
   "metadata": {},
   "outputs": [
    {
     "name": "stdout",
     "output_type": "stream",
     "text": [
      "Match:\n",
      "Found a match!\n",
      "Found a match!\n",
      "Not Match:\n",
      "Found a match!\n"
     ]
    }
   ],
   "source": [
    "def text_match1(text):\n",
    "        patterns = ''\n",
    "        if re.search(patterns,  text):\n",
    "                return 'Found a match!'\n",
    "        else:\n",
    "                return('Not matched!')\n",
    "\n",
    "print(\"Match:\")\n",
    "print(text_match1(\"The quick brown fox jumps over the lazy dog.\"))\n",
    "print(text_match1(\"Python_Exercises_1\"))\n",
    "print(\"Not Match:\")\n",
    "print(text_match1(\"Python-Exercises-1\"))"
   ]
  },
  {
   "cell_type": "markdown",
   "id": "9b0c3e01-4e16-4637-81f3-c4c934c3edca",
   "metadata": {},
   "source": [
    "2) Write a Python program that matches a string that has an a followed by three 'b'"
   ]
  },
  {
   "cell_type": "markdown",
   "id": "ffcdb128-6275-46ee-ac44-6cbc11d71a1d",
   "metadata": {},
   "source": [
    "---"
   ]
  },
  {
   "cell_type": "markdown",
   "id": "4b4eb533-80bd-465d-b969-71f8b9688815",
   "metadata": {},
   "source": [
    "**\".\"** Matches any character other than newline (or including line terminators with the /s flag) \\\n",
    "```'.'``` => ```'a' or 'b' or 'c'```"
   ]
  },
  {
   "cell_type": "markdown",
   "id": "16900f33-4544-44bb-bf2e-944e4ba1e95f",
   "metadata": {},
   "source": [
    "**'a+'** Matches one or more consecutive `a` characters. \\\n",
    "```'a+'``` => ```'a' or 'aa' or 'aaa' or 'aaaa'```"
   ]
  },
  {
   "cell_type": "markdown",
   "id": "e30773fd-426c-46fa-9eab-9045d71fa4a7",
   "metadata": {},
   "source": [
    "**'a{2}'** Matches exactly 2 consecutive `a` characters. \\\n",
    "```'a{2}'``` => ```'aa'```"
   ]
  },
  {
   "cell_type": "markdown",
   "id": "dd278809-f6be-49fe-8098-506d07ac615a",
   "metadata": {},
   "source": [
    "---"
   ]
  },
  {
   "cell_type": "code",
   "execution_count": 19,
   "id": "00ecf3ea-71ce-4c67-ba4c-a0e349102558",
   "metadata": {},
   "outputs": [
    {
     "name": "stdout",
     "output_type": "stream",
     "text": [
      "Match:\n",
      "Found a match!\n",
      "Not Match:\n",
      "Found a match!\n"
     ]
    }
   ],
   "source": [
    "def text_match2(text):\n",
    "        patterns = ''\n",
    "        if re.search(patterns,  text):\n",
    "                return 'Found a match!'\n",
    "        else:\n",
    "                return('Not matched!')\n",
    "\n",
    "print(\"Match:\")\n",
    "print(text_match2(\"abbb\"))\n",
    "print(\"Not Match:\")\n",
    "print(text_match2(\"aabbbbbc\"))"
   ]
  },
  {
   "cell_type": "markdown",
   "id": "de8a9331-7b9e-4e7f-a255-dec2150ae5c5",
   "metadata": {},
   "source": [
    "3) Write a Python program that matches a string that has an 'a' followed by two to three 'b'."
   ]
  },
  {
   "cell_type": "code",
   "execution_count": 20,
   "id": "d625aa64-b485-41f2-bc3a-db3411574a9c",
   "metadata": {},
   "outputs": [
    {
     "name": "stdout",
     "output_type": "stream",
     "text": [
      "Match:\n",
      "Found a match!\n",
      "Found a match!\n",
      "Not Match:\n",
      "Found a match!\n",
      "Found a match!\n"
     ]
    }
   ],
   "source": [
    "def text_match3(text):\n",
    "        patterns = ''\n",
    "        if re.search(patterns,  text):\n",
    "                return 'Found a match!'\n",
    "        else:\n",
    "                return('Not matched!')\n",
    "\n",
    "print(\"Match:\")\n",
    "print(text_match3(\"abb\"))\n",
    "print(text_match3(\"abbb\"))\n",
    "print(\"Not Match:\")\n",
    "print(text_match3(\"ab\"))\n",
    "print(text_match3(\"aabbbbbc\"))"
   ]
  },
  {
   "cell_type": "markdown",
   "id": "c41dca33-7100-42af-8db6-04d761819a73",
   "metadata": {},
   "source": [
    "4) Write a Python program that matches a string that has an 'a' followed by anything, ending in 'b'"
   ]
  },
  {
   "cell_type": "markdown",
   "id": "51ca7a48-a849-4f6f-a255-a548158b58fa",
   "metadata": {},
   "source": [
    "---"
   ]
  },
  {
   "cell_type": "markdown",
   "id": "8dd6b86a-0479-437e-90d0-3051d7eca528",
   "metadata": {},
   "source": [
    "**'a\\*'** Matches zero or more consecutive `a` characters. \\\n",
    "```'a*'``` => ``` '' or 'a' or 'aa' or 'aaa' or 'aaaa' ...```"
   ]
  },
  {
   "cell_type": "markdown",
   "id": "e7dc79c6-f28b-4a7f-995a-8cbb31348f9d",
   "metadata": {},
   "source": [
    "---"
   ]
  },
  {
   "cell_type": "code",
   "execution_count": 21,
   "id": "444278b8-968b-4559-b2c2-c609a397ce8b",
   "metadata": {},
   "outputs": [
    {
     "name": "stdout",
     "output_type": "stream",
     "text": [
      "Match:\n",
      "Found a match!\n",
      "Not Match:\n",
      "Found a match!\n",
      "Found a match!\n"
     ]
    }
   ],
   "source": [
    "def text_match4(text):\n",
    "        patterns = ''\n",
    "        if re.search(patterns,  text):\n",
    "                return 'Found a match!'\n",
    "        else:\n",
    "                return('Not matched!')\n",
    "\n",
    "print(\"Match:\")\n",
    "print(text_match4(\"accddbbjjjb\"))\n",
    "print(\"Not Match:\")\n",
    "print(text_match4(\"aabAbbbc\"))\n",
    "print(text_match4(\"aabbbbd\"))"
   ]
  },
  {
   "cell_type": "markdown",
   "id": "8c885521",
   "metadata": {},
   "source": [
    "5. Write a Python program that matches an ```'efg'``` only between an ```'abcd'``` and an ```'hij'```"
   ]
  },
  {
   "cell_type": "markdown",
   "id": "bd03fff8",
   "metadata": {},
   "source": [
    "---"
   ]
  },
  {
   "cell_type": "markdown",
   "id": "39e5fc68",
   "metadata": {},
   "source": [
    "**'(?=...)'** is called a positive lookahead and is used to check if a subpattern exist before a match whitout consumming charactere.\\\n",
    "```'(?=color: )\\w*'``` => ```'color: blue'``` or ```'color: red'``` but the fist return ```'blue'``` and the second ```'red'```\\\n",
    "A positive lookbehind and their negative equivalent also exist."
   ]
  },
  {
   "cell_type": "markdown",
   "id": "369cb5ef",
   "metadata": {},
   "source": [
    "---"
   ]
  },
  {
   "cell_type": "code",
   "execution_count": 22,
   "id": "51298a6d",
   "metadata": {},
   "outputs": [
    {
     "name": "stdout",
     "output_type": "stream",
     "text": [
      "Match:\n",
      "Found a match!\n",
      "Not Match:\n",
      "Found a match!\n",
      "Found a match!\n"
     ]
    }
   ],
   "source": [
    "def text_match5(text):\n",
    "        patterns = ''\n",
    "        if re.search(patterns,  text):\n",
    "                return 'Found a match!'\n",
    "        else:\n",
    "                return('Not matched!')\n",
    "\n",
    "print(\"Match:\")\n",
    "print(text_match5(\"abcdefghij\"))\n",
    "print(\"Not Match:\")\n",
    "print(text_match5(\"abdefghij\"))\n",
    "print(text_match5(\"abcdefgh\"))"
   ]
  },
  {
   "cell_type": "markdown",
   "id": "5071476b",
   "metadata": {},
   "source": [
    "6.Write a Python program that only matches 'Pac Man' and 'PacMan'"
   ]
  },
  {
   "cell_type": "code",
   "execution_count": 9,
   "id": "375d54ab",
   "metadata": {},
   "outputs": [
    {
     "name": "stdout",
     "output_type": "stream",
     "text": [
      "Match:\n",
      "Found a match!\n",
      "Found a match!\n",
      "Not Match:\n",
      "Found a match!\n",
      "Found a match!\n"
     ]
    }
   ],
   "source": [
    "import re\n",
    "def text_match6(text):\n",
    "        patterns = ''\n",
    "        if re.search(patterns,  text):\n",
    "                return 'Found a match!'\n",
    "        else:\n",
    "                return('Not matched!')\n",
    "\n",
    "print(\"Match:\")\n",
    "print(text_match6(\"Pac Man\"))\n",
    "print(text_match6(\"PacMan\"))\n",
    "print(\"Not Match:\")\n",
    "print(text_match6(\"Pac  Man\"))\n",
    "print(text_match6(\"\\_(._.)_/\"))"
   ]
  },
  {
   "cell_type": "markdown",
   "id": "2ea894d0-da8f-4321-aa15-43042b14b7e2",
   "metadata": {},
   "source": [
    "7. Validate an IPv4 address. The addresses are four numbered separated by three dots, and can only have a maximum value of 255 in either octet. Start by trying to validate 172.16.254.1."
   ]
  },
  {
   "cell_type": "markdown",
   "id": "ce6388a5-42e9-4364-bdfb-28231e7563be",
   "metadata": {},
   "source": [
    "---"
   ]
  },
  {
   "cell_type": "markdown",
   "id": "c5b8ee41-c7ae-4cae-ab8e-ee526fb2fe3a",
   "metadata": {},
   "source": [
    "**'\\$'** Matches the end of a string without consuming any characters. If multiline mode is used, this will also match immediately before a newline character. \\\n",
    "```'\\w+$'``` => 'end of ```string```'"
   ]
  },
  {
   "cell_type": "markdown",
   "id": "3c2e8245-0a83-4dd9-ad9d-0ea63c80078e",
   "metadata": {},
   "source": [
    "**'^'** Matches the start of a string without consuming any characters. If /m multiline mode is used, this will also match immediately after a newline character.\\\n",
    "```'^\\w+'``` => '```start``` of string'\n",
    "\n",
    "\n"
   ]
  },
  {
   "cell_type": "markdown",
   "id": "4be9d585-b936-4bed-8c3a-a612548a42f8",
   "metadata": {},
   "source": [
    "**'(?:...)'** A non-capturing group allows you to apply quantifiers to part of your regex but does not capture/assign an ID. \\\n",
    "For example, repeating 1-3 digits and a period 3 times can be done like this: (?:\\d{1,3}\\.){3}\\d{1,3} \\\n",
    "```'match this (?:match that)'``` => ```'match this match that'```"
   ]
  },
  {
   "cell_type": "markdown",
   "id": "cfd8100e-4a81-41a8-8f13-fc13fdd06469",
   "metadata": {},
   "source": [
    "---"
   ]
  },
  {
   "cell_type": "code",
   "execution_count": 10,
   "id": "94937cb5-e72b-4b49-8b51-6900cb26cb42",
   "metadata": {},
   "outputs": [
    {
     "name": "stdout",
     "output_type": "stream",
     "text": [
      "Match:\n",
      "Found a match!\n",
      "Found a match!\n",
      "Found a match!\n",
      "Not Match:\n",
      "Found a match!\n",
      "Found a match!\n",
      "Found a match!\n"
     ]
    }
   ],
   "source": [
    "def text_match5(text):\n",
    "        patterns = ''\n",
    "        if re.search(patterns,  text):\n",
    "                return 'Found a match!'\n",
    "        else:\n",
    "                return('Not matched!')\n",
    "\n",
    "print(\"Match:\")\n",
    "print(text_match5(\"172.16.254.1\"))\n",
    "print(text_match5(\"249.1.254.1\"))\n",
    "print(text_match5(\"255.255.255.1\"))\n",
    "print(\"Not Match:\")\n",
    "print(text_match5(\"256.257.254.1\"))\n",
    "print(text_match5(\"a.1.300.1\"))\n",
    "print(text_match5(\"255.255.1\"))"
   ]
  }
 ],
 "metadata": {
  "kernelspec": {
   "display_name": "Python 3 (ipykernel)",
   "language": "python",
   "name": "python3"
  },
  "language_info": {
   "codemirror_mode": {
    "name": "ipython",
    "version": 3
   },
   "file_extension": ".py",
   "mimetype": "text/x-python",
   "name": "python",
   "nbconvert_exporter": "python",
   "pygments_lexer": "ipython3",
   "version": "3.11.8"
  }
 },
 "nbformat": 4,
 "nbformat_minor": 5
}
